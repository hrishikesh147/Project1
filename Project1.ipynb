{
 "cells": [
  {
   "cell_type": "code",
   "execution_count": 1,
   "id": "9b593887",
   "metadata": {},
   "outputs": [],
   "source": [
    "from flask import Flask, render_template,request,jsonify"
   ]
  },
  {
   "cell_type": "code",
   "execution_count": 2,
   "id": "5e891f7b",
   "metadata": {},
   "outputs": [],
   "source": [
    "from bs4 import BeautifulSoup as bs"
   ]
  },
  {
   "cell_type": "code",
   "execution_count": 3,
   "id": "e39f5d5c",
   "metadata": {},
   "outputs": [],
   "source": [
    "from urllib.request import urlopen as urReq"
   ]
  },
  {
   "cell_type": "code",
   "execution_count": 4,
   "id": "e668a6c1",
   "metadata": {},
   "outputs": [],
   "source": [
    "flipcart_url=\"https://www.flipkart.com/search?q=\"+\"iphone\""
   ]
  },
  {
   "cell_type": "code",
   "execution_count": 5,
   "id": "cd36fc38",
   "metadata": {},
   "outputs": [
    {
     "data": {
      "text/plain": [
       "'https://www.flipkart.com/search?q=iphone'"
      ]
     },
     "execution_count": 5,
     "metadata": {},
     "output_type": "execute_result"
    }
   ],
   "source": [
    "flipcart_url"
   ]
  },
  {
   "cell_type": "code",
   "execution_count": 6,
   "id": "c2ae6392",
   "metadata": {},
   "outputs": [
    {
     "data": {
      "text/plain": [
       "<http.client.HTTPResponse at 0x18aaba97ee0>"
      ]
     },
     "execution_count": 6,
     "metadata": {},
     "output_type": "execute_result"
    }
   ],
   "source": [
    "urReq(flipcart_url)"
   ]
  },
  {
   "cell_type": "code",
   "execution_count": 7,
   "id": "00a180f9",
   "metadata": {},
   "outputs": [],
   "source": [
    "response_website=urReq(flipcart_url)"
   ]
  },
  {
   "cell_type": "code",
   "execution_count": 8,
   "id": "cf464a9c",
   "metadata": {},
   "outputs": [],
   "source": [
    "data_flipkart=response_website.read()"
   ]
  },
  {
   "cell_type": "code",
   "execution_count": 9,
   "id": "966e9395",
   "metadata": {},
   "outputs": [],
   "source": [
    "beautified_html=bs(data_flipkart,\"html.parser\")"
   ]
  },
  {
   "cell_type": "code",
   "execution_count": 10,
   "id": "2a247755",
   "metadata": {},
   "outputs": [],
   "source": [
    "bigbox=beautified_html.find_all(\"div\",{\"class\":\"_1AtVbE col-12-12\"})"
   ]
  },
  {
   "cell_type": "code",
   "execution_count": 11,
   "id": "eacb0937",
   "metadata": {},
   "outputs": [
    {
     "data": {
      "text/plain": [
       "'/apple-iphone-11-purple-128-gb/p/itmb7ca0b05522ff?pid=MOBFWQ6BEHFXGXGB&lid=LSTMOBFWQ6BEHFXGXGBBI1U9D&marketplace=FLIPKART&q=iphone&store=tyy%2F4io&srno=s_1_5&otracker=search&fm=organic&iid=82250dd3-f664-4498-8808-53f97f8ae366.MOBFWQ6BEHFXGXGB.SEARCH&ppt=None&ppn=None&ssid=kmpz212zvk0000001663998422889&qH=0b3f45b266a97d70'"
      ]
     },
     "execution_count": 11,
     "metadata": {},
     "output_type": "execute_result"
    }
   ],
   "source": [
    "bigbox[6].div.div.div.a[\"href\"]"
   ]
  },
  {
   "cell_type": "code",
   "execution_count": 12,
   "id": "32c0e8db",
   "metadata": {},
   "outputs": [],
   "source": [
    "product6= \"https://www.flipkart.com/\" + bigbox[6].div.div.div.a[\"href\"]"
   ]
  },
  {
   "cell_type": "code",
   "execution_count": 13,
   "id": "6a0045e1",
   "metadata": {},
   "outputs": [],
   "source": [
    "import requests"
   ]
  },
  {
   "cell_type": "code",
   "execution_count": 17,
   "id": "1aab916a",
   "metadata": {},
   "outputs": [],
   "source": [
    "product66=requests.get(product6)"
   ]
  },
  {
   "cell_type": "code",
   "execution_count": 21,
   "id": "41caa127",
   "metadata": {},
   "outputs": [],
   "source": [
    "product66.encoding='utf-8'"
   ]
  },
  {
   "cell_type": "code",
   "execution_count": 28,
   "id": "0d820618",
   "metadata": {},
   "outputs": [
    {
     "data": {
      "text/plain": [
       "<Response [404]>"
      ]
     },
     "execution_count": 28,
     "metadata": {},
     "output_type": "execute_result"
    }
   ],
   "source": [
    "product66"
   ]
  },
  {
   "cell_type": "code",
   "execution_count": null,
   "id": "86a48787",
   "metadata": {},
   "outputs": [],
   "source": []
  },
  {
   "cell_type": "code",
   "execution_count": 27,
   "id": "9728ac87",
   "metadata": {},
   "outputs": [
    {
     "data": {
      "text/plain": [
       "Not Found. Redirecting to http://www.flipkart.com/http404.php"
      ]
     },
     "execution_count": 27,
     "metadata": {},
     "output_type": "execute_result"
    }
   ],
   "source": [
    "bs(product66.text,\"html.parser\")"
   ]
  },
  {
   "cell_type": "code",
   "execution_count": null,
   "id": "13d05403",
   "metadata": {},
   "outputs": [],
   "source": []
  }
 ],
 "metadata": {
  "kernelspec": {
   "display_name": "Python 3 (ipykernel)",
   "language": "python",
   "name": "python3"
  },
  "language_info": {
   "codemirror_mode": {
    "name": "ipython",
    "version": 3
   },
   "file_extension": ".py",
   "mimetype": "text/x-python",
   "name": "python",
   "nbconvert_exporter": "python",
   "pygments_lexer": "ipython3",
   "version": "3.9.12"
  }
 },
 "nbformat": 4,
 "nbformat_minor": 5
}
